{
 "cells": [
  {
   "cell_type": "code",
   "execution_count": 3,
   "id": "e4194e69",
   "metadata": {},
   "outputs": [
    {
     "name": "stderr",
     "output_type": "stream",
     "text": [
      "/global/homes/p/pvashi/.conda/envs/metaml/lib/python3.11/site-packages/ase/dft/__init__.py:2: UserWarning: A NumPy version >=1.23.5 and <2.3.0 is required for this version of SciPy (detected version 2.3.2)\n",
      "  from scipy.integrate import trapezoid\n"
     ]
    },
    {
     "name": "stdout",
     "output_type": "stream",
     "text": [
      "Found input file: abcdefg.xyz\n"
     ]
    }
   ],
   "source": [
    "# XYZ to CIF Converter\n",
    "# This notebook converts the abcdefg.xyz file to CIF format\n",
    "\n",
    "import numpy as np\n",
    "from ase import Atoms\n",
    "from ase.io import read, write\n",
    "import os\n",
    "\n",
    "# Check if the input file exists\n",
    "input_file = \"abcdefg.xyz\"\n",
    "if os.path.exists(input_file):\n",
    "    print(f\"Found input file: {input_file}\")\n",
    "else:\n",
    "    print(f\"Error: {input_file} not found!\")\n"
   ]
  },
  {
   "cell_type": "code",
   "execution_count": 4,
   "id": "1d7d8bba",
   "metadata": {},
   "outputs": [
    {
     "name": "stdout",
     "output_type": "stream",
     "text": [
      "Reading XYZ file...\n",
      "Number of atoms: 3584\n",
      "Chemical symbols: {'Na', 'Pu', 'Cl'}\n",
      "Cell parameters: Cell([48.3642500793, 48.3642500793, 48.3642500793])\n",
      "Cell volume: 113128.85 Å³\n",
      "\n",
      "First 5 atoms:\n",
      "  Cl: [45.2476    4.61611   0.704811]\n",
      "  Cl: [2.65285 4.41836 2.12842]\n",
      "  Pu: [5.26371 3.76895 3.01299]\n",
      "  Cl: [7.07518 2.82343 1.24202]\n",
      "  Na: [9.63469 3.56163 1.87251]\n"
     ]
    }
   ],
   "source": [
    "# Read the XYZ file\n",
    "print(\"Reading XYZ file...\")\n",
    "atoms = read(input_file)\n",
    "\n",
    "print(f\"Number of atoms: {len(atoms)}\")\n",
    "print(f\"Chemical symbols: {set(atoms.get_chemical_symbols())}\")\n",
    "print(f\"Cell parameters: {atoms.get_cell()}\")\n",
    "print(f\"Cell volume: {atoms.get_volume():.2f} Å³\")\n",
    "\n",
    "# Display some basic information about the structure\n",
    "print(f\"\\nFirst 5 atoms:\")\n",
    "for i in range(min(5, len(atoms))):\n",
    "    symbol = atoms[i].symbol\n",
    "    position = atoms[i].position\n",
    "    print(f\"  {symbol}: {position}\")\n"
   ]
  },
  {
   "cell_type": "code",
   "execution_count": 5,
   "id": "60b13c13",
   "metadata": {},
   "outputs": [
    {
     "name": "stdout",
     "output_type": "stream",
     "text": [
      "Converting to CIF format and saving as: abcdefg.cif\n",
      "Conversion completed successfully!\n",
      "CIF file saved as: abcdefg.cif\n",
      "Output file size: 324372 bytes\n"
     ]
    }
   ],
   "source": [
    "# Convert to CIF format\n",
    "output_file = \"abcdefg.cif\"\n",
    "print(f\"Converting to CIF format and saving as: {output_file}\")\n",
    "\n",
    "# Write the structure to CIF format\n",
    "write(output_file, atoms, format='cif')\n",
    "\n",
    "print(\"Conversion completed successfully!\")\n",
    "print(f\"CIF file saved as: {output_file}\")\n",
    "\n",
    "# Verify the output file was created\n",
    "if os.path.exists(output_file):\n",
    "    file_size = os.path.getsize(output_file)\n",
    "    print(f\"Output file size: {file_size} bytes\")\n",
    "else:\n",
    "    print(\"Error: CIF file was not created!\")\n"
   ]
  },
  {
   "cell_type": "code",
   "execution_count": 6,
   "id": "7bfaf9e3",
   "metadata": {},
   "outputs": [
    {
     "name": "stdout",
     "output_type": "stream",
     "text": [
      "Preview of the generated CIF file:\n",
      "--------------------------------------------------\n",
      " 1: data_image0\n",
      " 2: _chemical_formula_structural       Cl2PuClNaCl2PuCl3NaCl2NaClNa2Cl3NaClPuClPuCl2NaClNaClNaCl2NaPuCl3PuCl6NaCl3NaCl2NaClPuCl2NaCl2Na2Cl3NaPuClNaClNaPuCl2PuCl3Na2ClNaCl2NaCl3PuClPuCl3NaClNaCl5PuCl3NaClNa2Cl2NaCl2PuClNaCl4NaCl2PuClNaCl3NaCl2Na2ClPuCl6PuClNaCl3PuCl3NaCl3Na3Cl2NaClPuCl2NaClNaClPuCl4PuNaCl2PuCl4PuCl2PuCl2NaCl3PuCl3PuClPuClNaClNaCl4PuClNa2Cl2PuNaCl2Na2ClPuClPuCl4PuNaCl3NaCl2PuCl2NaCl2PuClNaCl3NaPuCl5NaCl2NaPuCl3Pu2ClNaCl7PuCl2NaClNaCl2NaClNaCl4NaClNaCl2PuNaPuNaCl2Na2Cl4NaCl2Pu2ClNaCl3NaCl2NaClNaCl3PuCl2PuCl3PuCl2NaClNaCl3NaCl2NaCl2PuCl4PuNaClNaClNaCl2NaClPuClNaClPuClNaCl3PuNaClNaClPuClNaClNaClNaClPuCl2NaCl2Na2Cl2NaClPuCl2NaCl2NaClNaClNa2Cl2NaCl3NaClNaCl2PuCl2NaClNa2Cl3NaClPuClNaClNaCl2PuClNaCl3NaClNaClNaCl3Na2Cl3PuCl2PuCl3NaClNa5Cl3Na2ClNaClNaClNaPuCl2NaCl2Na2Cl2NaClNaClNaClPuCl2Na2Cl3NaCl2NaCl3PuCl4Na2Cl2PuCl4NaClNa2Cl2Na2ClNaCl2NaCl2Na2ClNa2ClPuCl5PuNaCl6PuCl2Na2ClNaCl2NaCl2NaCl3Na3ClPuClNaPuCl2NaClNaCl2Na3Cl2PuClNaCl2NaClNaCl3PuClNaClNaPuCl4NaCl3NaClNa2Cl2PuCl2NaCl3NaClNaClPuCl2NaClNaClPuCl3NaPuCl4Na3Cl3NaPuCl2NaCl5PuClNaClNaCl4NaCl2Na2Cl2NaCl2PuCl2Na2ClNaCl2NaCl2NaClNaClPuCl2NaPuCl2NaClPuClNaCl2Pu2Cl2NaCl3NaCl2NaClPuCl2NaCl2NaClNaCl3Na2Cl2PuCl2NaPuClNaCl3PuCl2PuCl2NaCl4NaCl4NaPuCl2PuCl4NaClNaClNaCl2PuCl2PuNaCl4NaClNa3ClNaCl2PuCl2NaCl2Na2Cl2PuCl3NaCl3NaCl2NaPuClNaClPuCl3PuNaClNaClNaCl3NaCl2PuNa2Cl3PuNaCl3NaCl3Na2ClPuClNaClNaClNaCl4Na3ClNaCl2PuClNaClPuCl2NaCl2NaCl5NaCl2PuCl3PuClNa2Cl3NaClPuCl2NaCl3NaPuClPuCl2NaCl2NaCl2PuCl2NaClPuCl2NaCl2PuNaCl3Na2Cl2NaClPuClNa2Cl4PuCl2NaCl2NaCl3PuCl3Na3Cl2NaClNaCl4NaCl2PuClNaClPuClNaCl4NaClNaClPuClNa2Cl2NaCl3PuCl2PuClNaClNaClNaCl2NaClPuCl3NaCl2Na2ClNaCl2PuNaCl2NaCl2PuNaCl2PuClPuClNaCl5PuCl3NaClPu2Cl3NaCl2PuCl2NaCl2PuClNa2ClNaCl2PuCl4Na2Cl3NaCl4PuCl3NaClNaCl4PuCl2PuCl3NaCl3PuClNa2Cl2PuCl3NaClNaCl4Na2PuCl2NaClNaClNaClNaCl2NaPuClNa2Cl2NaClPuClNaClPuCl5NaClNaPuClNaCl3NaClNaCl2PuClNaCl2PuClPuClPuClNaCl3PuClNaClNaClNaCl2Na2Cl2PuCl3NaCl2NaCl2NaClNaCl2Na2ClPuCl3NaCl2Na2Cl2NaClNa2Cl5NaCl3PuNaCl2NaClNaClNaCl2PuClNaPuCl3NaCl2Na2Cl2NaClNaClNaClNaCl3NaClNaCl2PuClNaClNaCl2Na2ClNaClNaCl4PuNaClNaPuCl3NaClPuCl3NaClNaClNaCl2Na2ClNaCl2NaClNaCl3PuCl3NaCl2PuNaPuCl2Na3Cl3PuCl3NaCl2PuCl2NaCl2PuCl4NaPuClNaClNa3ClNa2ClNaCl2PuNaPuCl2Na3Cl3NaCl2PuNaCl2NaClNaCl2NaCl2PuNa2Cl3NaClNaCl2NaCl2NaCl2Na2ClNaCl6NaPuCl3NaCl3PuCl2NaCl2NaCl2NaClNaCl2NaCl2NaClNa2Cl4PuClNaCl3NaClNaClPuClPuCl3PuCl5PuClNaCl2PuCl3PuNaCl4PuNa2Cl2NaCl2Na3ClNa2Cl3NaClNa4Cl2PuCl2NaClNaClPuNaCl2NaCl3PuCl2PuCl2NaClPuNaCl4PuCl2Na3ClNaClNaCl2PuCl5NaCl3Na2Cl2Na2Cl2PuCl3PuNa2Cl2PuCl6NaCl2NaClNaClNa3Cl2Na2Cl2Na3Cl2NaClPuCl2NaCl3Na2Cl5PuClNaCl2NaCl3PuClNaClNaClNaCl3NaClNaCl3NaCl2NaClNaClPuCl3NaCl5Na2ClNa2ClNaClPuCl3NaClNaClNaCl3Na2Cl2PuCl2PuCl2NaCl4Na2PuClNaClNaPuCl4Na2ClNaClNaClPuCl3Na2Cl2NaCl2PuNaCl3NaClNaCl3Na2Cl2NaCl3PuClNaClPuCl3NaClNaCl3NaCl2NaCl3PuClNa2ClNaClNaClPuClNaCl2NaCl3Na4ClPuClNaCl2NaClPuCl3NaClNaClNaCl4NaCl2NaClNaCl4PuNa2ClNaCl2NaCl2PuNaClNa2Cl2NaCl2PuCl2NaCl2Na4ClNaClNaClPuCl2Na2Cl2NaCl2NaCl3PuCl4Pu2Cl2PuCl2Na2Cl2PuNaCl2NaClNa2Cl3Pu2ClNa2Cl3NaCl2PuClNaPuCl2NaClNaCl4NaClNaClNaClPuClPuClNaCl2NaClPuCl3NaClPuNaCl4PuCl4NaClNaCl5PuCl2Na2ClNa2Cl2NaCl2NaCl2NaCl2Na2ClNaCl2PuClNa2Cl2Na2Cl3PuClNaCl2PuClNaClNaPuCl3NaCl2Na2Cl3PuClNaClNaClNaClNaCl2NaCl3PuClNaPuNaClNaCl2Na4ClNaClPuClNaClNa2ClNaClPuCl4PuClPuCl6PuClNa2Cl3NaClPuCl2NaClPuNaCl3NaClNaClNaClNaCl2NaCl2Na2Cl2PuCl5PuCl2NaCl2NaPuNaCl2Na2Cl4PuCl2NaPuCl2NaCl2NaClPuCl4NaCl2PuClPuNaCl5NaCl2NaCl3NaClNaCl2NaClPuCl2PuNaCl2PuCl2NaCl2NaCl3Pu2ClNaCl4NaCl2NaClNaPuCl2NaCl2NaClNaCl3NaClPuCl2Na2Cl4Na2Cl2PuCl2NaClNaClNaCl5PuClNaPuCl5Na3Cl2PuClNaClPuCl2NaCl5NaCl2PuNaCl2NaCl2PuCl2Na2PuClNaClNaClNaCl3PuClNaCl3PuCl2NaClNa3Cl2NaCl3NaCl4Na2PuCl2NaClPuCl3NaClPuClNaCl2NaClPuClNaCl2NaCl4NaClPuCl3PuCl2PuClPuCl3NaClNaClNaCl3PuClNaCl2NaCl2Na2ClNaCl3NaClNaClNa2ClNa2ClNaCl2PuClPuCl2NaClPuClNaCl3PuCl3PuCl3PuCl2NaClNaCl3NaPuCl3NaCl4NaCl3Na3Cl2NaClNaClNaClNaCl2PuNa2Cl2PuCl2Na2Cl3NaClNa2Cl6PuCl4NaClNa2Cl5NaCl3PuNaCl2NaClNa2Cl2NaPuClPuNaClPuCl2NaClPuClNaCl3NaCl2Na2ClNaCl3NaClNaCl2Na2Cl4PuClPuCl4PuNaClNaCl2PuCl3Na2Cl3Na3Cl3PuClNaCl2Na2ClNaClNaClNa2Cl3NaPuNaCl3NaPuCl3NaCl2NaCl2PuClNaCl3NaCl2NaCl2NaClNaClPuCl2Na2Cl2NaClPuCl2NaClNaClNaClNaCl2NaClNa2Cl3NaCl2Na2PuClNa3ClPuCl3NaPuClNaClNa2ClNaCl5NaCl4NaClNaClNaCl2NaClNa2Cl2PuClNa3Cl5PuNaCl2NaCl5NaCl3NaCl5PuClNa2Cl2PuCl4PuNaCl3NaCl2PuClPuClNaClPuCl2PuClNaCl4PuClNaClNaClNaCl2PuCl2PuNaCl4NaPuClNaCl2Na2PuCl2NaCl2NaClNaClNaCl2PuNaClNaClNaCl3NaCl2NaCl2NaCl4NaClNaCl3NaCl2PuCl2NaCl2NaPuCl3NaClPuCl2NaClNaCl2NaCl3NaCl2PuCl2PuCl4NaClNaCl2PuCl4PuNaCl2Na2ClNaCl2NaPuCl3NaClPuNaCl3NaClNa2ClNaCl2Na2PuCl2NaCl4NaClPuClPuCl2NaCl2PuCl2NaClPu2ClNaCl2NaClNaClNaClNaClNaCl6NaCl4NaCl2NaClNaClPuCl6Pu2Cl2PuClPuCl3NaPuCl3PuCl3PuClNaClNaClPuClNaClNaClNa2Cl2NaCl3NaClNa2PuCl3PuNaCl2NaPuCl4Na2ClNaCl2PuNaCl5NaClNa2ClPuCl2NaClNaCl2Na2Cl3PuClNaCl2NaClNaCl3Na2Cl4PuCl2NaCl2PuCl2NaCl2PuCl3NaClNaClPuNaClPuCl4PuNa2Cl3PuCl2NaClNaClNaCl4Na2ClNa2Cl6NaPuNa2ClNaCl2NaClNaCl3NaClNaClNaClNaClNaClNaCl3PuCl3NaClNa3ClNa2Cl2NaClNaClNaClNaCl2Na2Cl2NaClPuCl2NaClNaCl3PuCl2NaCl3NaClNaClNaCl2NaClNaCl5PuCl4NaClPuClNaCl4NaCl3PuClNaClNaClNaPuCl3NaCl3NaCl2NaClPuCl2NaCl4Na2ClNa2Cl2Na2Cl2NaCl2NaPuCl3NaClNaClPuCl5PuCl3NaCl2NaPuClNaCl3Na2Cl2PuCl2NaClNaPuClNa2Cl2NaClNa2Cl2NaPuCl2NaClPuNaPuCl4PuCl2PuNaCl2NaCl2Pu2Cl2NaClNa2ClNaClNa2Cl2NaCl3NaClNa2Cl3Na2Cl2PuCl5NaCl3NaClNaCl2PuCl4NaCl2NaClPuCl2Na3Cl2PuCl2PuCl2NaClPuClNaClNaClNaCl3PuCl3NaClNaClNa2ClNaClNaCl6Na2PuCl2NaClNaCl2NaCl3NaPuCl2NaCl2PuCl3PuClNa2Cl2NaCl2NaPuNaClNaClNaCl2PuNaClNa2ClNaCl2Na3Cl3PuCl3NaCl\n",
      " 3: _chemical_formula_sum              \"Cl2176 Pu384 Na1024\"\n",
      " 4: _cell_length_a       48.3642500793\n",
      " 5: _cell_length_b       48.3642500793\n",
      " 6: _cell_length_c       48.3642500793\n",
      " 7: _cell_angle_alpha    90.0\n",
      " 8: _cell_angle_beta     90.0\n",
      " 9: _cell_angle_gamma    90.0\n",
      "10: \n",
      "11: _space_group_name_H-M_alt    \"P 1\"\n",
      "12: _space_group_IT_number       1\n",
      "13: \n",
      "14: loop_\n",
      "15:   _space_group_symop_operation_xyz\n",
      "16:   'x, y, z'\n",
      "17: \n",
      "18: loop_\n",
      "19:   _atom_site_type_symbol\n",
      "20:   _atom_site_label\n",
      "... (3589 more lines)\n"
     ]
    }
   ],
   "source": [
    "# Optional: Display a preview of the CIF file\n",
    "if os.path.exists(output_file):\n",
    "    print(\"Preview of the generated CIF file:\")\n",
    "    print(\"-\" * 50)\n",
    "    with open(output_file, 'r') as f:\n",
    "        lines = f.readlines()\n",
    "        # Show first 20 lines of the CIF file\n",
    "        for i, line in enumerate(lines[:20]):\n",
    "            print(f\"{i+1:2d}: {line.rstrip()}\")\n",
    "        if len(lines) > 20:\n",
    "            print(f\"... ({len(lines) - 20} more lines)\")\n",
    "else:\n",
    "    print(\"CIF file not found for preview\")\n"
   ]
  },
  {
   "cell_type": "code",
   "execution_count": null,
   "id": "deb0beeb",
   "metadata": {},
   "outputs": [],
   "source": []
  }
 ],
 "metadata": {
  "kernelspec": {
   "display_name": "metaml",
   "language": "python",
   "name": "metaml"
  },
  "language_info": {
   "codemirror_mode": {
    "name": "ipython",
    "version": 3
   },
   "file_extension": ".py",
   "mimetype": "text/x-python",
   "name": "python",
   "nbconvert_exporter": "python",
   "pygments_lexer": "ipython3",
   "version": "3.11.10"
  }
 },
 "nbformat": 4,
 "nbformat_minor": 5
}
