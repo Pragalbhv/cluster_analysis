{
  "cells": [
    {
      "cell_type": "markdown",
      "metadata": {},
      "source": [
        "# Voronoi analysis with OVITO\n",
        "\n",
        "This notebook mirrors `voronoi_canon.ipynb` but uses OVITO's `VoronoiAnalysisModifier` via `voronoi_ovito_utils.py`.\n",
        "\n",
        "- Build Voronoi graphs (full and metals-only)\n",
        "- Summarize graph properties and clusters\n",
        "- Compute coordination distributions\n",
        "\n",
        "Note: Ensure OVITO and ASE are installed in this environment.\n"
      ]
    },
    {
      "cell_type": "code",
      "execution_count": null,
      "metadata": {},
      "outputs": [
        {
          "ename": "",
          "evalue": "",
          "output_type": "error",
          "traceback": [
            "\u001b[1;31mRunning cells with 'Python 3.11.11' requires the ipykernel package.\n",
            "\u001b[1;31mInstall 'ipykernel' into the Python environment. \n",
            "\u001b[1;31mCommand: '/usr/bin/python3.11 -m pip install ipykernel -U --user --force-reinstall'"
          ]
        }
      ],
      "source": [
        "import numpy as np\n",
        "import networkx as nx\n",
        "import matplotlib.pyplot as plt\n",
        "\n",
        "from ovito.io import import_file\n",
        "\n",
        "from voronoi_ovito_utils import (\n",
        "    build_voronoi_graph_from_pipeline,\n",
        "    build_voronoi_graph_metals_only_from_pipeline,\n",
        "    analyze_graph_properties,\n",
        "    analyze_voronoi_clusters,  # atoms-based version (kept for reference)\n",
        "    analyze_voronoi_coordination_from_pipeline,\n",
        "    analyze_temporal_graph_properties_from_pipeline,\n",
        "    plot_temporal_graph_properties,\n",
        ")\n",
        "\n"
      ]
    },
    {
      "cell_type": "code",
      "execution_count": null,
      "metadata": {},
      "outputs": [],
      "source": [
        "# Configure your input structure/trajectory file\n",
        "input_path = '/pscratch/sd/p/pvashi/irp/irp_mace_l_2/irp/density/NaCl-PuCl3/x0.67/T1300K/dump.lammpstrj'  # TODO: Set path\n",
        "\n",
        "# Load with OVITO pipeline\n",
        "aae = import_file(input_path, multiple_frames=True)\n",
        "print(f\"Loaded trajectory with {aae.source.num_frames} frames\")\n",
        "frame = 0  # choose frame index\n",
        "\n",
        "# Compute once to confirm cell/PBC and show basic info\n",
        "data0 = aae.compute(frame)\n",
        "print('Cell matrix:')\n",
        "print(np.array(data0.cell.matrix))\n",
        "print('PBC:', tuple(bool(x) for x in data0.cell.pbc))\n",
        "\n"
      ]
    },
    {
      "cell_type": "code",
      "execution_count": null,
      "metadata": {},
      "outputs": [],
      "source": [
        "# Full-system Voronoi graph (OVITO pipeline)\n",
        "G = build_voronoi_graph_from_pipeline(aae, frame=frame, min_area=0.0)\n",
        "props = analyze_graph_properties(G)\n",
        "print('Graph properties (full):', props)\n",
        "\n",
        "# Optional: summarize Voronoi edge network\n",
        "from voronoi_ovito_utils import summarize_voronoi_edge_network\n",
        "pair_counts = summarize_voronoi_edge_network(G, plot=True)\n",
        "pair_counts\n"
      ]
    },
    {
      "cell_type": "code",
      "execution_count": null,
      "metadata": {},
      "outputs": [],
      "source": [
        "# Metals-only Voronoi graph and clusters (OVITO pipeline)\n",
        "metal_species = ['Pu', 'Na']  # Adjust as needed\n",
        "Gm = build_voronoi_graph_metals_only_from_pipeline(aae, frame=frame, min_area=0.0, metal_species=metal_species)\n",
        "print('Metals-only graph properties:', analyze_graph_properties(Gm))\n",
        "\n",
        "# Coordination distributions over selected frames (OVITO pipeline)\n",
        "frames = [frame]\n",
        "coord = analyze_voronoi_coordination_from_pipeline(aae, frames=frames, at_list=None, min_area=0.0)\n",
        "central = metal_species[0] if metal_species else list(coord.keys())[0]\n",
        "print(f\"Coordination counts for central species '{central}':\")\n",
        "for neighbor_sp, vals in coord.get(central, {}).items():\n",
        "    if vals:\n",
        "        print(neighbor_sp, '-> mean:', float(np.mean(vals)), 'std:', float(np.std(vals)))\n",
        "\n"
      ]
    },
    {
      "cell_type": "code",
      "execution_count": null,
      "metadata": {},
      "outputs": [],
      "source": [
        "# (Optional) Temporal analysis over selected frames with OVITO pipeline\n",
        "# frames = list(range(0, min(aae.source.num_frames, 50), 5))\n",
        "# temporal = analyze_temporal_graph_properties_from_pipeline(aae, frames=frames, min_area=0.0)\n",
        "# plot_temporal_graph_properties(temporal)\n",
        "\n",
        "print('Notebook scaffold ready. Set input_path and run cells.')\n",
        "\n"
      ]
    },
    {
      "cell_type": "code",
      "execution_count": null,
      "metadata": {},
      "outputs": [],
      "source": [
        "# Match plots from voronoi_canon\n",
        "from voronoi_ovito_utils import (\n",
        "    plot_coordination_histograms,\n",
        "    plot_graph_structure,\n",
        "    plot_cluster_size_distribution,\n",
        ")\n",
        "\n",
        "# Example coordination histogram for chosen central species (if plot_utils available)\n",
        "try:\n",
        "    if coord:\n",
        "        plot_coordination_histograms(coord, central_type=central)\n",
        "except Exception as e:\n",
        "    print('Coordination histogram plotting unavailable or failed:', e)\n",
        "\n",
        "# Graph structure plots\n",
        "try:\n",
        "    plot_graph_structure(G, title='Voronoi Graph Structure (full, OVITO)')\n",
        "    plot_graph_structure(Gm, title='Voronoi Graph Structure (metals-only, OVITO)')\n",
        "except Exception as e:\n",
        "    print('Graph plotting unavailable or failed:', e)\n",
        "\n",
        "# Cluster size distribution from metals-only graph components\n",
        "try:\n",
        "    comps = list(nx.connected_components(Gm))\n",
        "    sizes = [len(c) for c in comps]\n",
        "    if sizes:\n",
        "        plot_cluster_size_distribution(sizes, title='Cluster Size Distribution (metals-only, OVITO)')\n",
        "except Exception as e:\n",
        "    print('Cluster size distribution plotting unavailable or failed:', e)\n",
        "\n"
      ]
    },
    {
      "cell_type": "code",
      "execution_count": null,
      "metadata": {},
      "outputs": [],
      "source": [
        "# 3D graph with edges (largest components)\n",
        "from plot_utils import plot_3d_graph_components\n",
        "\n",
        "# Full graph (may be dense/noisy); metals-only is typically more informative\n",
        "try:\n",
        "    print('3D components for metals-only Voronoi graph:')\n",
        "    plot_3d_graph_components(Gm, max_components=6)\n",
        "except Exception as e:\n",
        "    print('3D graph plotting failed:', e)\n",
        "\n"
      ]
    },
    {
      "cell_type": "code",
      "execution_count": null,
      "metadata": {},
      "outputs": [],
      "source": []
    },
    {
      "cell_type": "code",
      "execution_count": null,
      "metadata": {},
      "outputs": [],
      "source": [
        "# Average cluster size vs facet area (min_area) sweep using OVITO pipeline\n",
        "import numpy as np\n",
        "import matplotlib.pyplot as plt\n",
        "import networkx as nx\n",
        "from voronoi_ovito_utils import (\n",
        "    build_voronoi_graph_metals_only_from_pipeline,\n",
        ")\n",
        "\n",
        "metal_species = ['Pu', 'Na']\n",
        "\n",
        "# # Collect edge areas at min_area=0 to set sweep range\n",
        "# G0 = build_voronoi_graph_metals_only_from_pipeline(aae, frame=frame, min_area=0.0, metal_species=metal_species)\n",
        "# areas0 = np.array([edata.get('area', 0.0) for _,_,edata in G0.edges(data=True)], float)\n",
        "\n",
        "# if areas0.size == 0:\n",
        "#     thresholds = np.linspace(0.0, 1.0, 201)\n",
        "# else:\n",
        "#     lo = float(np.quantile(areas0, 0.00))\n",
        "#     hi = float(np.quantile(areas0, 0.80))\n",
        "#     thresholds = np.linspace(lo, hi if hi > lo else lo + 1.0, 25)\n",
        "thresholds = [0,1e-10,1e-8,1e-5,1e-4,1e-3,1e-2,1e-1,0.2,0.5,1]\n",
        "\n",
        "avg_sizes = []\n",
        "for t in thresholds:\n",
        "    Gm = build_voronoi_graph_metals_only_from_pipeline(aae, frame=frame, min_area=float(t), metal_species=metal_species)\n",
        "    comps = list(nx.connected_components(Gm))\n",
        "    sizes = np.array([len(c) for c in comps], int)\n",
        "    avg_sizes.append(float(np.mean(sizes)) if sizes.size > 0 else 0.0)\n",
        "\n",
        "plt.figure(figsize=(6,4))\n",
        "plt.plot(thresholds, avg_sizes, marker='o')\n",
        "plt.xlabel('min_area (facet area threshold)')\n",
        "plt.ylabel('Average cluster size')\n",
        "plt.title('Average cluster size vs facet area (OVITO metals-only)')\n",
        "plt.grid(True, alpha=0.3)\n",
        "plt.tight_layout()\n",
        "plt.show()\n"
      ]
    },
    {
      "cell_type": "code",
      "execution_count": null,
      "metadata": {},
      "outputs": [],
      "source": [
        "avg_sizes"
      ]
    },
    {
      "cell_type": "markdown",
      "metadata": {},
      "source": [
        "- Lower conc\n",
        "- Without Na you do\n",
        "- last hunder snapshots and avg them\n",
        "- cluster size as a func of conc\n",
        "- histogram of CN distribution\n",
        "- how does avg coordination number change when you change all these parameters."
      ]
    },
    {
      "cell_type": "code",
      "execution_count": null,
      "metadata": {},
      "outputs": [],
      "source": [
        "- Look at distribution of coordination number\n",
        "- what did we use as our thesholds"
      ]
    }
  ],
  "metadata": {
    "kernelspec": {
      "display_name": "Python 3",
      "language": "python",
      "name": "python3"
    },
    "language_info": {
      "codemirror_mode": {
        "name": "ipython",
        "version": 3
      },
      "file_extension": ".py",
      "mimetype": "text/x-python",
      "name": "python",
      "nbconvert_exporter": "python",
      "pygments_lexer": "ipython3",
      "version": "3.11.11"
    }
  },
  "nbformat": 4,
  "nbformat_minor": 2
}
