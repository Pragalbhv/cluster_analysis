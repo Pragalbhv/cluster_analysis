{
 "cells": [
  {
   "cell_type": "code",
   "execution_count": 1,
   "id": "586cf8b1",
   "metadata": {},
   "outputs": [],
   "source": [
    "from ovito.io import import_file\n",
    "from ovito.modifiers import CreateBondsModifier, SelectTypeModifier\n",
    "from ovito.data import BondsEnumerator\n",
    "import networkx as nx\n",
    "import numpy as np"
   ]
  },
  {
   "cell_type": "code",
   "execution_count": 2,
   "id": "f01da086",
   "metadata": {},
   "outputs": [],
   "source": [
    "# --- user inputs ---\n",
    "infile = \"/pscratch/sd/p/pvashi/irp/irp_mace_l_2/irp/density/NaCl-PuCl3/x0.40/T1100K/dump.lammpstrj\"\n",
    "r_PuCl = 3.10   # example: first-minimum Pu–Cl (Å)\n",
    "r_NaCl = 3.10   # example: first-minimum Na–Cl (Å)"
   ]
  },
  {
   "cell_type": "code",
   "execution_count": 3,
   "id": "37a6cd0a",
   "metadata": {},
   "outputs": [],
   "source": [
    "pipe = import_file(infile, multiple_frames=True)\n",
    "\n",
    "# (Optional) ensure types exist and have names 'Pu','Na','Cl' in your dump."
   ]
  },
  {
   "cell_type": "code",
   "execution_count": 4,
   "id": "f2a53488",
   "metadata": {},
   "outputs": [],
   "source": [
    "# 1) Create only M–Cl bonds (pairwise cutoffs)\n",
    "cb = CreateBondsModifier(mode=CreateBondsModifier.Mode.Pairwise)\n",
    "cb.set_pairwise_cutoff('Pu', 'Cl', r_PuCl)\n",
    "cb.set_pairwise_cutoff('Cl', 'Pu', r_PuCl)  # symmetric\n",
    "cb.set_pairwise_cutoff('Na', 'Cl', r_NaCl)\n",
    "cb.set_pairwise_cutoff('Cl', 'Na', r_NaCl)"
   ]
  },
  {
   "cell_type": "code",
   "execution_count": 5,
   "id": "966d786a",
   "metadata": {},
   "outputs": [],
   "source": [
    "# Block direct M–M bonds:\n",
    "cb.set_pairwise_cutoff('Pu', 'Pu', 0.0)\n",
    "cb.set_pairwise_cutoff('Na', 'Na', 0.0)\n",
    "cb.set_pairwise_cutoff('Pu', 'Na', 0.0)\n",
    "pipe.modifiers.append(cb)"
   ]
  },
  {
   "cell_type": "code",
   "execution_count": 8,
   "id": "e944d8f6",
   "metadata": {},
   "outputs": [],
   "source": [
    "# (Optional) keep only metals for reporting later\n",
    "pipe.modifiers.append(SelectTypeModifier(types={'Pu','Na'}))  # selection is for convenience"
   ]
  },
  {
   "cell_type": "code",
   "execution_count": null,
   "id": "e376c3a4",
   "metadata": {},
   "outputs": [],
   "source": []
  },
  {
   "cell_type": "code",
   "execution_count": 16,
   "id": "31b98c84",
   "metadata": {},
   "outputs": [],
   "source": [
    "def clusters_shared_anion(frame=0):\n",
    "    data = pipe.compute(frame)\n",
    "    parts = data.particles\n",
    "    print(len(parts))\n",
    "    types = parts.particle_types   # mapping id->name\n",
    "    print(len(types))\n",
    "    \n",
    "    names = np.array([types.type_by_id(t).name for t in parts['Particle Type']])\n",
    "    print(len(names))\n",
    "    \n",
    "    is_metal = (names == 'Pu') | (names == 'Na')\n",
    "    is_Cl    = (names == 'Cl')\n",
    "\n",
    "    # Enumerate bonds once\n",
    "    bonds = parts.bonds\n",
    "    return parts\n",
    "    enum  = BondsEnumerator(bonds)\n",
    "\n",
    "    # For every Cl, list bonded metals; connect those metals pairwise\n",
    "    G = nx.Graph()\n",
    "    metal_indices = np.where(is_metal)[0]\n",
    "    G.add_nodes_from(metal_indices.tolist())\n",
    "\n",
    "    for cl in np.where(is_Cl)[0]:\n",
    "        mlist = []\n",
    "        for b in enum.bonds_of_particle(cl):\n",
    "            a,bidx = bonds.topology[b]  # endpoints\n",
    "            nb = a if bidx == cl else bidx\n",
    "            if is_metal[nb]:\n",
    "                mlist.append(int(nb))\n",
    "        # connect all metals that share this Cl\n",
    "        for i in range(len(mlist)):\n",
    "            for j in range(i+1, len(mlist)):\n",
    "                u, v = mlist[i], mlist[j]\n",
    "                G.add_edge(u, v)\n",
    "\n",
    "    # Connected components = metal clusters\n",
    "    comps = list(nx.connected_components(G))\n",
    "    sizes = np.array([len(c) for c in comps], dtype=int)\n",
    "\n",
    "    # Per-metal cluster ID (–1 for isolated with no bonds)\n",
    "    cluster_id = -np.ones(len(parts), dtype=int)\n",
    "    for cid, comp in enumerate(comps):\n",
    "        for idx in comp:\n",
    "            cluster_id[idx] = cid\n",
    "\n",
    "    return sizes, cluster_id, G"
   ]
  },
  {
   "cell_type": "code",
   "execution_count": 18,
   "id": "f7e6bf22",
   "metadata": {},
   "outputs": [
    {
     "name": "stdout",
     "output_type": "stream",
     "text": [
      "7\n",
      "1792\n",
      "1792\n"
     ]
    },
    {
     "data": {
      "text/plain": [
       "Property('Particle Type')"
      ]
     },
     "execution_count": 18,
     "metadata": {},
     "output_type": "execute_result"
    }
   ],
   "source": [
    "clusters_shared_anion(frame=1).particle_types"
   ]
  },
  {
   "cell_type": "code",
   "execution_count": 10,
   "id": "a0b6632d",
   "metadata": {},
   "outputs": [
    {
     "ename": "TypeError",
     "evalue": "__init__(): incompatible constructor arguments. The following argument types are supported:\n    1. ovito.data.BondsEnumerator(bonds: ovito.data.Bonds)\n\nInvoked with: None",
     "output_type": "error",
     "traceback": [
      "\u001b[0;31m---------------------------------------------------------------------------\u001b[0m",
      "\u001b[0;31mTypeError\u001b[0m                                 Traceback (most recent call last)",
      "Cell \u001b[0;32mIn[10], line 1\u001b[0m\n\u001b[0;32m----> 1\u001b[0m sizes, labels, G \u001b[38;5;241m=\u001b[39m \u001b[43mclusters_shared_anion\u001b[49m\u001b[43m(\u001b[49m\u001b[43mframe\u001b[49m\u001b[38;5;241;43m=\u001b[39;49m\u001b[38;5;241;43m0\u001b[39;49m\u001b[43m)\u001b[49m\n",
      "Cell \u001b[0;32mIn[9], line 11\u001b[0m, in \u001b[0;36mclusters_shared_anion\u001b[0;34m(frame)\u001b[0m\n\u001b[1;32m      9\u001b[0m \u001b[38;5;66;03m# Enumerate bonds once\u001b[39;00m\n\u001b[1;32m     10\u001b[0m bonds \u001b[38;5;241m=\u001b[39m parts\u001b[38;5;241m.\u001b[39mbonds\n\u001b[0;32m---> 11\u001b[0m enum  \u001b[38;5;241m=\u001b[39m \u001b[43mBondsEnumerator\u001b[49m\u001b[43m(\u001b[49m\u001b[43mbonds\u001b[49m\u001b[43m)\u001b[49m\n\u001b[1;32m     13\u001b[0m \u001b[38;5;66;03m# For every Cl, list bonded metals; connect those metals pairwise\u001b[39;00m\n\u001b[1;32m     14\u001b[0m G \u001b[38;5;241m=\u001b[39m nx\u001b[38;5;241m.\u001b[39mGraph()\n",
      "\u001b[0;31mTypeError\u001b[0m: __init__(): incompatible constructor arguments. The following argument types are supported:\n    1. ovito.data.BondsEnumerator(bonds: ovito.data.Bonds)\n\nInvoked with: None"
     ]
    }
   ],
   "source": [
    "sizes, labels, G = clusters_shared_anion(frame=0)"
   ]
  },
  {
   "cell_type": "code",
   "execution_count": 8,
   "id": "f68eaa21",
   "metadata": {},
   "outputs": [],
   "source": [
    "# (Optional) keep only metals for reporting later\n",
    "pipe.modifiers.append(SelectTypeModifier(types={'Pu','Na'}))  # selection is for convenience\n"
   ]
  },
  {
   "cell_type": "code",
   "execution_count": 12,
   "id": "1ec1579b-6858-48ac-b74c-100786fdd9da",
   "metadata": {},
   "outputs": [
    {
     "ename": "RuntimeError",
     "evalue": "Modifier 'Cluster analysis' reported: The operation requires an input particles selection.",
     "output_type": "error",
     "traceback": [
      "\u001b[0;31m---------------------------------------------------------------------------\u001b[0m",
      "\u001b[0;31mRuntimeError\u001b[0m                              Traceback (most recent call last)",
      "Cell \u001b[0;32mIn[12], line 33\u001b[0m\n\u001b[1;32m     29\u001b[0m pipe\u001b[38;5;241m.\u001b[39mmodifiers\u001b[38;5;241m.\u001b[39mappend(cl)\n\u001b[1;32m     31\u001b[0m \u001b[38;5;66;03m# Per-particle cluster IDs: data.particles[\"Cluster\"]\u001b[39;00m\n\u001b[1;32m     32\u001b[0m \u001b[38;5;66;03m# Per-frame cluster list table: data.tables[\"clusters\"] with sizes, COM, Rg, etc.\u001b[39;00m\n\u001b[0;32m---> 33\u001b[0m data \u001b[38;5;241m=\u001b[39m \u001b[43mpipe\u001b[49m\u001b[38;5;241;43m.\u001b[39;49m\u001b[43mcompute\u001b[49m\u001b[43m(\u001b[49m\u001b[38;5;241;43m0\u001b[39;49m\u001b[43m)\u001b[49m\n\u001b[1;32m     34\u001b[0m cluster_ids \u001b[38;5;241m=\u001b[39m data\u001b[38;5;241m.\u001b[39mparticles[\u001b[38;5;124m'\u001b[39m\u001b[38;5;124mCluster\u001b[39m\u001b[38;5;124m'\u001b[39m]      \u001b[38;5;66;03m# array aligned to all particles\u001b[39;00m\n\u001b[1;32m     35\u001b[0m cluster_tbl \u001b[38;5;241m=\u001b[39m data\u001b[38;5;241m.\u001b[39mtables[\u001b[38;5;124m'\u001b[39m\u001b[38;5;124mclusters\u001b[39m\u001b[38;5;124m'\u001b[39m]        \u001b[38;5;66;03m# rows = clusters, column 'Cluster Size', etc.\u001b[39;00m\n",
      "File \u001b[0;32m~/.conda/envs/metaml/lib/python3.11/site-packages/ovito/pipeline/_pipeline_class.py:221\u001b[0m, in \u001b[0;36m_Pipeline_compute\u001b[0;34m(self, frame)\u001b[0m\n\u001b[1;32m    167\u001b[0m \u001b[38;5;28;01mdef\u001b[39;00m \u001b[38;5;21m_Pipeline_compute\u001b[39m(\u001b[38;5;28mself\u001b[39m, frame: Optional[\u001b[38;5;28mint\u001b[39m] \u001b[38;5;241m=\u001b[39m \u001b[38;5;28;01mNone\u001b[39;00m) \u001b[38;5;241m-\u001b[39m\u001b[38;5;241m>\u001b[39m DataCollection:\n\u001b[1;32m    168\u001b[0m \u001b[38;5;250m    \u001b[39m\u001b[38;5;124;03m\"\"\" Computes and returns the output of this data pipeline (for one trajectory frame).\u001b[39;00m\n\u001b[1;32m    169\u001b[0m \n\u001b[1;32m    170\u001b[0m \u001b[38;5;124;03m        This method requests an evaluation of the pipeline and blocks until the input data has been obtained from the\u001b[39;00m\n\u001b[0;32m   (...)\u001b[0m\n\u001b[1;32m    219\u001b[0m \n\u001b[1;32m    220\u001b[0m \u001b[38;5;124;03m    \"\"\"\u001b[39;00m\n\u001b[0;32m--> 221\u001b[0m     state \u001b[38;5;241m=\u001b[39m \u001b[38;5;28;43mself\u001b[39;49m\u001b[38;5;241;43m.\u001b[39;49m\u001b[43m_evaluate\u001b[49m\u001b[43m(\u001b[49m\u001b[43mframe\u001b[49m\u001b[43m)\u001b[49m\n\u001b[1;32m    222\u001b[0m     \u001b[38;5;28;01mif\u001b[39;00m state\u001b[38;5;241m.\u001b[39mstatus\u001b[38;5;241m.\u001b[39mtype \u001b[38;5;241m==\u001b[39m PipelineStatus\u001b[38;5;241m.\u001b[39mType\u001b[38;5;241m.\u001b[39mError:\n\u001b[1;32m    223\u001b[0m         \u001b[38;5;28;01mraise\u001b[39;00m \u001b[38;5;167;01mRuntimeError\u001b[39;00m(\u001b[38;5;124mf\u001b[39m\u001b[38;5;124m\"\u001b[39m\u001b[38;5;124mData pipeline failure: \u001b[39m\u001b[38;5;132;01m{\u001b[39;00mstate\u001b[38;5;241m.\u001b[39mstatus\u001b[38;5;241m.\u001b[39mtext\u001b[38;5;132;01m}\u001b[39;00m\u001b[38;5;124m\"\u001b[39m)\n",
      "\u001b[0;31mRuntimeError\u001b[0m: Modifier 'Cluster analysis' reported: The operation requires an input particles selection."
     ]
    }
   ],
   "source": [
    "from ovito.io import import_file, export_file\n",
    "from ovito.modifiers import CreateBondsModifier, SelectTypeModifier, ClusterAnalysisModifier\n",
    "\n",
    "infile = \"/pscratch/sd/p/pvashi/irp/irp_mace_l_2/irp/density/NaCl-PuCl3/x0.40/T1100K/dump.lammpstrj\"\n",
    "r_MM = 5.2   # example Pu/Ce–Pu/Ce \"NN\" cutoff (tune!)\n",
    "\n",
    "pipe = import_file(infile, multiple_frames=True)\n",
    "\n",
    "# Metals-only selection (optional for clarity)\n",
    "pipe.modifiers.append(SelectTypeModifier(types={'Pu','Ce'}))\n",
    "\n",
    "# Build only metal–metal bonds:\n",
    "cb = CreateBondsModifier(mode=CreateBondsModifier.Mode.Pairwise)\n",
    "for a in ('Pu','Ce'):\n",
    "    for b in ('Pu','Ce'):\n",
    "        cb.set_pairwise_cutoff(a, b, r_MM)\n",
    "# No bonds to Cl:\n",
    "# cb.set_pairwise_cutoff('Pu','Cl', 0.0)\n",
    "# cb.set_pairwise_cutoff('Ce','Cl', 0.0)\n",
    "# cb.set_pairwise_cutoff('Cl','Cl', 0.0)\n",
    "pipe.modifiers.append(cb)\n",
    "\n",
    "# Cluster analysis over the bond graph (only on currently selected particles if you want)\n",
    "cl = ClusterAnalysisModifier(\n",
    "    neighbor_mode = ClusterAnalysisModifier.NeighborMode.Bonding,\n",
    "    only_selected = True,    # clusters just among Pu/Ce\n",
    "    sort_by_size  = True,\n",
    ")\n",
    "pipe.modifiers.append(cl)\n",
    "\n",
    "# Per-particle cluster IDs: data.particles[\"Cluster\"]\n",
    "# Per-frame cluster list table: data.tables[\"clusters\"] with sizes, COM, Rg, etc.\n",
    "data = pipe.compute(0)\n",
    "cluster_ids = data.particles['Cluster']      # array aligned to all particles\n",
    "cluster_tbl = data.tables['clusters']        # rows = clusters, column 'Cluster Size', etc.\n",
    "\n",
    "# (Optional) export the cluster table across all frames\n",
    "export_file(pipe, \"clusters_per_frame.txt\", \"txt/attr\",\n",
    "            columns=[\"Timestep\", \"ClusterAnalysis.cluster_count\"],\n",
    "            multiple_frames=True)\n"
   ]
  },
  {
   "cell_type": "code",
   "execution_count": null,
   "id": "4c9de6a5-7fcb-4651-9673-731f1e314776",
   "metadata": {},
   "outputs": [],
   "source": [
    "data = pipe.compute(0)\n",
    "topo = data.particles.bonds.topology  # Nx2 array of (i,j)\n",
    "# Example: build a graph among metals only\n",
    "import networkx as nx, numpy as np\n",
    "names = np.array([data.particles.particle_types.type_by_id(t).name\n",
    "                  for t in data.particles['Particle Type']])\n",
    "is_metal = (names=='Pu') | (names=='Ce')\n",
    "\n",
    "G = nx.Graph()\n",
    "G.add_nodes_from(np.where(is_metal)[0].tolist())\n",
    "for a,b in topo:\n",
    "    if is_metal[a] and is_metal[b]:\n",
    "        G.add_edge(int(a), int(b))\n"
   ]
  }
 ],
 "metadata": {
  "kernelspec": {
   "display_name": "Python 3",
   "language": "python",
   "name": "python3"
  },
  "language_info": {
   "codemirror_mode": {
    "name": "ipython",
    "version": 3
   },
   "file_extension": ".py",
   "mimetype": "text/x-python",
   "name": "python",
   "nbconvert_exporter": "python",
   "pygments_lexer": "ipython3",
   "version": "3.11.11"
  }
 },
 "nbformat": 4,
 "nbformat_minor": 5
}
